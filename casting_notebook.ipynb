{
 "cells": [
  {
   "cell_type": "markdown",
   "id": "b8564958",
   "metadata": {},
   "source": [
    "# Improv casting optimization\n",
    "### Using Integer Programming to find casting assignments that maximize group happiness"
   ]
  },
  {
   "cell_type": "code",
   "execution_count": 246,
   "id": "6722e4a6",
   "metadata": {},
   "outputs": [],
   "source": [
    "import pulp as pl\n",
    "import pandas as pd"
   ]
  },
  {
   "cell_type": "code",
   "execution_count": 247,
   "id": "0c127b50",
   "metadata": {},
   "outputs": [],
   "source": [
    "def get_skits(df):\n",
    "    return df.columns[1:].tolist()\n",
    "\n",
    "def get_players(df):\n",
    "    return df[\"Player\"].tolist()\n",
    "    \n",
    "\n",
    "def validate_player_ranks(df):\n",
    "    # Validate that every player has ranked the skits in correct numerical order\n",
    "    # Just a bs check to make sure we don't have like 3 5s in one persons row for some reason\n",
    "    skits = get_skits(df)\n",
    "    expected_ranks = set(range(1, len(skits) + 1))\n",
    "\n",
    "    # Check all players at once\n",
    "    invalid_mask = df[skits].apply(lambda row: set(row) != expected_ranks, axis=1)\n",
    "\n",
    "    # List invalid players\n",
    "    invalid_players = df.loc[invalid_mask, \"Player\"].tolist()\n",
    "\n",
    "    if invalid_players:\n",
    "        raise ValueError(f\"Players with invalid ranks: {invalid_players}\")\n",
    "    else:\n",
    "        print(\"All players have valid rankings!\")"
   ]
  },
  {
   "cell_type": "code",
   "execution_count": 248,
   "id": "d4f1234d",
   "metadata": {},
   "outputs": [
    {
     "name": "stdout",
     "output_type": "stream",
     "text": [
      "All players have valid rankings!\n"
     ]
    },
    {
     "data": {
      "text/html": [
       "<div>\n",
       "<style scoped>\n",
       "    .dataframe tbody tr th:only-of-type {\n",
       "        vertical-align: middle;\n",
       "    }\n",
       "\n",
       "    .dataframe tbody tr th {\n",
       "        vertical-align: top;\n",
       "    }\n",
       "\n",
       "    .dataframe thead th {\n",
       "        text-align: right;\n",
       "    }\n",
       "</style>\n",
       "<table border=\"1\" class=\"dataframe\">\n",
       "  <thead>\n",
       "    <tr style=\"text-align: right;\">\n",
       "      <th></th>\n",
       "      <th>Player</th>\n",
       "      <th>4 corners</th>\n",
       "      <th>New choice</th>\n",
       "      <th>Alphabet</th>\n",
       "      <th>Nightclub</th>\n",
       "      <th>3579</th>\n",
       "      <th>Host</th>\n",
       "    </tr>\n",
       "  </thead>\n",
       "  <tbody>\n",
       "    <tr>\n",
       "      <th>0</th>\n",
       "      <td>Alex</td>\n",
       "      <td>3</td>\n",
       "      <td>2</td>\n",
       "      <td>1</td>\n",
       "      <td>5</td>\n",
       "      <td>4</td>\n",
       "      <td>6</td>\n",
       "    </tr>\n",
       "    <tr>\n",
       "      <th>1</th>\n",
       "      <td>Rachel</td>\n",
       "      <td>1</td>\n",
       "      <td>2</td>\n",
       "      <td>3</td>\n",
       "      <td>4</td>\n",
       "      <td>5</td>\n",
       "      <td>6</td>\n",
       "    </tr>\n",
       "    <tr>\n",
       "      <th>2</th>\n",
       "      <td>Senoll</td>\n",
       "      <td>6</td>\n",
       "      <td>3</td>\n",
       "      <td>1</td>\n",
       "      <td>4</td>\n",
       "      <td>5</td>\n",
       "      <td>2</td>\n",
       "    </tr>\n",
       "    <tr>\n",
       "      <th>3</th>\n",
       "      <td>Ashley</td>\n",
       "      <td>2</td>\n",
       "      <td>6</td>\n",
       "      <td>4</td>\n",
       "      <td>1</td>\n",
       "      <td>3</td>\n",
       "      <td>5</td>\n",
       "    </tr>\n",
       "    <tr>\n",
       "      <th>4</th>\n",
       "      <td>Owen</td>\n",
       "      <td>4</td>\n",
       "      <td>3</td>\n",
       "      <td>6</td>\n",
       "      <td>2</td>\n",
       "      <td>5</td>\n",
       "      <td>1</td>\n",
       "    </tr>\n",
       "  </tbody>\n",
       "</table>\n",
       "</div>"
      ],
      "text/plain": [
       "   Player  4 corners  New choice  Alphabet  Nightclub  3579  Host\n",
       "0    Alex          3           2         1          5     4     6\n",
       "1  Rachel          1           2         3          4     5     6\n",
       "2  Senoll          6           3         1          4     5     2\n",
       "3  Ashley          2           6         4          1     3     5\n",
       "4    Owen          4           3         6          2     5     1"
      ]
     },
     "execution_count": null,
     "metadata": {},
     "output_type": "execute_result"
    }
   ],
   "source": [
    "# Read in player rankings. Assumes rows are players, columns are games\n",
    "# Assume players rank things from 1 (most desired) to n_skits (least desired)\n",
    "df = pd.read_csv(\"cast_preferences.csv\")\n",
    "validate_player_ranks(df)\n",
    "df.head()"
   ]
  },
  {
   "cell_type": "code",
   "execution_count": 249,
   "id": "ef053c16",
   "metadata": {},
   "outputs": [],
   "source": [
    "# Players and skits\n",
    "players = df[\"Player\"].tolist()\n",
    "skits = df.columns[1:].tolist()\n",
    "\n",
    "player_ids = range(len(players))\n",
    "skit_ids = range(len(skits))"
   ]
  },
  {
   "cell_type": "code",
   "execution_count": null,
   "id": "f490a1d4",
   "metadata": {},
   "outputs": [],
   "source": [
    "# Fairness coefficient can be toggled to upweight/downweight the importance of the least happy person\n",
    "# FC == 0: Maximize total group happiness, even if some people get fucked\n",
    "# FC <= 5: Mostly maximize total group happiness, but reduce the chance someone is getting fucked\n",
    "# FC >= 1000: Maximize fairness even if the group as a whole is less happy\n",
    "fairness_coefficient = 5\n",
    "\n",
    "# Whether host can appear in the games\n",
    "host_plays_games = True\n"
   ]
  },
  {
   "cell_type": "code",
   "execution_count": 251,
   "id": "ba7bd332",
   "metadata": {},
   "outputs": [
    {
     "name": "stderr",
     "output_type": "stream",
     "text": [
      "<positron-console-cell-251>:6: FutureWarning: DataFrame.applymap has been deprecated. Use DataFrame.map instead.\n"
     ]
    }
   ],
   "source": [
    "# Max happiness value\n",
    "max_happiness = int(df.max(numeric_only=True).max())\n",
    "\n",
    "# Invert the player ranks matrix into a player happiness matrix\n",
    "# Happiness == max_rank - rank (e.g., 6 - 1 = 5 happiness; 6 - 6 = 0 happiness)\n",
    "player_happiness = df[skits].applymap(lambda r: max_happiness - r).values.tolist()"
   ]
  },
  {
   "cell_type": "code",
   "execution_count": 252,
   "id": "f2c7f2f3",
   "metadata": {},
   "outputs": [],
   "source": [
    "# --- CUSTOM SKIT SIZES ---\n",
    "# Exact number of players needed for each skit. Adjust as needed. \n",
    "skit_sizes = {\n",
    "    \"4 corners\": 4,\n",
    "    \"New choice\": 3,\n",
    "    \"Alphabet\": 3,\n",
    "    \"Nightclub\": 7,\n",
    "    \"3579\": 4,\n",
    "    \"Host\": 1\n",
    "}\n",
    "\n",
    "# Make sure skits are exactly as they appear in the csv\n",
    "assert sorted(list(skit_sizes.keys())) == sorted(skits), \"Skits sizes doesn't match names of skits in input CSV\""
   ]
  },
  {
   "cell_type": "markdown",
   "id": "650c11de",
   "metadata": {},
   "source": [
    "### Create base model"
   ]
  },
  {
   "cell_type": "code",
   "execution_count": 253,
   "id": "af416ff9",
   "metadata": {},
   "outputs": [],
   "source": [
    "# Initialize model object\n",
    "model = pl.LpProblem(\"ImprovCasting\", pl.LpMaximize)\n",
    "\n",
    "# Create variables to represent the casting matrix (i.e., which players are in each skit)\n",
    "# These variables will be permuted in order to maximize the happiness of the couch\n",
    "cast = pl.LpVariable.dicts(\"cast\", (player_ids, skit_ids), lowBound=0, upBound=1, cat=\"Binary\")\n",
    "\n",
    "# Minimum happiness\n",
    "min_happiness = pl.LpVariable(\"min_happiness\", lowBound=0)\n",
    "\n",
    "# This is the function whose value we're trying to optimize\n",
    "# Each cast permutation will be scored by multiplying cast matrix * player_happiness matrix\n",
    "# Finally, we add a term that multiplies the least happy players happiness by the happiness_coefficient\n",
    "\n",
    "model += pl.lpSum(player_happiness[p][s] * cast[p][s] for p in player_ids for s in skit_ids) + fairness_coefficient * min_happiness"
   ]
  },
  {
   "cell_type": "markdown",
   "id": "7583a9f6",
   "metadata": {},
   "source": [
    "### Add model constraints"
   ]
  },
  {
   "cell_type": "code",
   "execution_count": 254,
   "id": "1a1205ce",
   "metadata": {},
   "outputs": [],
   "source": [
    "# Ensure each player appears in 1 or 2 skits\n",
    "for player in player_ids:\n",
    "    model += pl.lpSum(cast[player][skit] for skit in skit_ids) >= 1\n",
    "    model += pl.lpSum(cast[player][skit] for skit in skit_ids) <= 2\n",
    "\n",
    "for skit_id, skit_name in enumerate(skits):\n",
    "    model += pl.lpSum(cast[player][skit_id] for player in player_ids) == skit_sizes[skit_name]\n",
    "\n",
    "# Enforce custom skit sizes\n",
    "for skit, skit_name in enumerate(skits):\n",
    "    model += pl.lpSum(cast[player][skit] for player in player_ids) == skit_sizes[skit_name]\n",
    "\n",
    "# Fairness: every player's happiness >= min_happiness\n",
    "for player in player_ids:\n",
    "    model += pl.lpSum(\n",
    "        player_happiness[player][skit] * cast[player][skit] for skit in skit_ids\n",
    "    ) >= min_happiness\n",
    "\n",
    "# Conditionally add constraint that host can't play games\n",
    "if not host_plays_games:\n",
    "    # Find the skit_id for \"Host\"\n",
    "    host_id = skits.index(\"Host\")\n",
    "\n",
    "    # Host constraint: if a player is in Host, they can't be in any other skit\n",
    "    # If player is Host (cast[p][host_id] = 1) -> they cannot be in any other skit.\n",
    "    # If player is not Host (cast[p][host_id] = 0) -> they may be in up to 2 other skits.\n",
    "    for p in player_ids:\n",
    "        model += pl.lpSum(cast[p][s] for s in skit_ids if s != host_id) <= 2 * (1 - cast[p][host_id])"
   ]
  },
  {
   "cell_type": "code",
   "execution_count": 255,
   "id": "dc5f0365",
   "metadata": {},
   "outputs": [
    {
     "data": {
      "text/plain": [
       "1"
      ]
     },
     "execution_count": null,
     "metadata": {},
     "output_type": "execute_result"
    }
   ],
   "source": [
    "# Solve the model\n",
    "model.solve(pl.PULP_CBC_CMD(msg=False))"
   ]
  },
  {
   "cell_type": "code",
   "execution_count": 256,
   "id": "614281a8",
   "metadata": {},
   "outputs": [
    {
     "name": "stdout",
     "output_type": "stream",
     "text": [
      "Solver status: Optimal\n"
     ]
    }
   ],
   "source": [
    "status = pl.LpStatus[model.status]\n",
    "print(f\"Solver status: {status}\")"
   ]
  },
  {
   "cell_type": "code",
   "execution_count": 257,
   "id": "70c0c9f3",
   "metadata": {},
   "outputs": [
    {
     "name": "stdout",
     "output_type": "stream",
     "text": [
      "Casting results:\n",
      "4 corners (4 slots): Rachel, Andre, Mike, Maddie (count: 4)\n",
      "New choice (3 slots): Alex, Mike, Fred (count: 3)\n",
      "Alphabet (3 slots): Alex, Senoll, Adam (count: 3)\n",
      "Nightclub (7 slots): Rachel, Senoll, Ashley, Annalise, Sita, Adam, Fred (count: 7)\n",
      "3579 (4 slots): Ashley, Annalise, Sita, Maddie (count: 4)\n",
      "Host (1 slots): Owen (count: 1)\n",
      "\n",
      "\n",
      "Skits by person:\n",
      "Alex: New choice, Alphabet\n",
      "Rachel: 4 corners, Nightclub\n",
      "Senoll: Alphabet, Nightclub\n",
      "Ashley: Nightclub, 3579\n",
      "Owen: Host\n",
      "Andre: 4 corners\n",
      "Annalise: Nightclub, 3579\n",
      "Mike: 4 corners, New choice\n",
      "Sita: Nightclub, 3579\n",
      "Maddie: 4 corners, 3579\n",
      "Adam: Alphabet, Nightclub\n",
      "Fred: New choice, Nightclub\n"
     ]
    }
   ],
   "source": [
    "# Create a list of (player, skit) tuples instead\n",
    "assignments = [(players[p_id], skits[s_id]) \n",
    "               for p_id in player_ids \n",
    "               for s_id in skit_ids \n",
    "               if pl.value(cast[p_id][s_id]) > 0.5]\n",
    "\n",
    "# Then group by skit\n",
    "print(\"Casting results:\")\n",
    "for skit in skits:\n",
    "    cast_list = [player for player, assigned_skit in assignments if assigned_skit == skit]\n",
    "    print(f\"{skit} ({skit_sizes[skit]} slots): {', '.join(cast_list)} (count: {len(cast_list)})\")\n",
    "\n",
    "print(\"\\n\")\n",
    "print(\"Skits by person:\")\n",
    "for p in players:\n",
    "    game_list = [assigned_skit for player, assigned_skit in assignments if player == p]\n",
    "    print(f\"{p}: {', '.join(game_list)}\")\n"
   ]
  }
 ],
 "metadata": {
  "language_info": {
   "name": "python"
  }
 },
 "nbformat": 4,
 "nbformat_minor": 5
}
